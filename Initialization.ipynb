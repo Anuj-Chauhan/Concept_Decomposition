{
 "cells": [
  {
   "cell_type": "markdown",
   "metadata": {},
   "source": [
    "# Driver Decomposition\n",
    "Given a list of drivers, decompose them into objects containing:\n",
    "1. Concept\n",
    "2. Polarity (for now sense)\n",
    "3. Adjective"
   ]
  },
  {
   "cell_type": "code",
   "execution_count": null,
   "metadata": {},
   "outputs": [],
   "source": [
    "import json\n",
    "import spacy"
   ]
  },
  {
   "cell_type": "code",
   "execution_count": null,
   "metadata": {},
   "outputs": [],
   "source": [
    "nlp = spacy.load('en_core_web_lg')\n",
    "spacy_stopwords = spacy.lang.en.stop_words.STOP_WORDS"
   ]
  },
  {
   "cell_type": "code",
   "execution_count": null,
   "metadata": {},
   "outputs": [],
   "source": [
    "from spacy.symbols import nsubj, VERB, NOUN, PROPN\n",
    "from spacy import displacy"
   ]
  },
  {
   "cell_type": "code",
   "execution_count": null,
   "metadata": {},
   "outputs": [],
   "source": [
    "drivers = [line.rstrip('\\n') for line in open('../drivers.txt')]\n",
    "nounCountList = {}"
   ]
  },
  {
   "cell_type": "code",
   "execution_count": null,
   "metadata": {
    "scrolled": true
   },
   "outputs": [],
   "source": [
    "drivers"
   ]
  },
  {
   "cell_type": "code",
   "execution_count": null,
   "metadata": {},
   "outputs": [],
   "source": [
    "def cleanDriver(driver):\n",
    "    return (' '.join(filter(lambda x: x.lower() not in spacy_stopwords,  driver.split())))"
   ]
  },
  {
   "cell_type": "code",
   "execution_count": null,
   "metadata": {},
   "outputs": [],
   "source": [
    "def genConceptJson(driver):\n",
    "    \n",
    "    #driver = cleanDriver(driver)\n",
    "    \n",
    "    res = {}\n",
    "    res[\"concepts\"] = {}\n",
    "    res[\"concepts\"][\"count\"] = 0\n",
    "    i = 1\n",
    "\n",
    "    for token in nlp(driver):\n",
    "\n",
    "        if (token.pos in [NOUN, PROPN]):\n",
    "            \n",
    "            nounCountList[token.lemma_] = 1 if token.lemma_ not in nounCountList else nounCountList[token.lemma_] + 1\n",
    "                \n",
    "            res[\"concepts\"][\"count\"] += 1\n",
    "            res[\"concepts\"][\"concept_\"+str(i)] = {}\n",
    "            res[\"concepts\"][\"concept_\"+str(i)][\"lemma\"] = token.lemma_\n",
    "\n",
    "            if (len([child.lemma_ for child in token.children])):\n",
    "                res[\"concepts\"][\"concept_\"+str(i)][\"sense\"] = [child.lemma_ for child in token.children if (child.pos_ in ['VERB','ADJ','NOUN'])]\n",
    "\n",
    "            i += 1 \n",
    "\n",
    "    for token in nlp(driver):\n",
    "        if (token.pos == VERB):\n",
    "            children = [child.lemma_ for child in token.children]\n",
    "            #print (children)\n",
    "\n",
    "            if (len(children) > 0):\n",
    "                for keys in res[\"concepts\"]:\n",
    "                    if keys != \"count\":\n",
    "\n",
    "                        for child in children:\n",
    "                            #print (\"RES\",res[\"concepts\"][keys][\"lemma\"])\n",
    "                            \n",
    "                            if (res[\"concepts\"][keys][\"lemma\"] == child):\n",
    "                                res[\"concepts\"][keys][\"adj\"] = token.lemma_\n",
    "                                \n",
    "\n",
    "    return (res)"
   ]
  },
  {
   "cell_type": "code",
   "execution_count": null,
   "metadata": {},
   "outputs": [],
   "source": [
    "sDrivers = ['government open to foreign Information Technology support, regulations in place']"
   ]
  },
  {
   "cell_type": "code",
   "execution_count": null,
   "metadata": {
    "scrolled": true
   },
   "outputs": [],
   "source": [
    "conceptJson = {}\n",
    "for driver in drivers:\n",
    "    conceptJson[driver] = genConceptJson(driver)\n",
    "    \n",
    "#print(conceptJson)"
   ]
  },
  {
   "cell_type": "code",
   "execution_count": null,
   "metadata": {
    "scrolled": true
   },
   "outputs": [],
   "source": [
    "print (json.dumps(conceptJson, indent=3))"
   ]
  },
  {
   "cell_type": "code",
   "execution_count": null,
   "metadata": {},
   "outputs": [],
   "source": [
    "nounCountList"
   ]
  },
  {
   "cell_type": "code",
   "execution_count": null,
   "metadata": {},
   "outputs": [],
   "source": [
    "sorted_nounList = sorted(nounCountList.items(), key=lambda kv: kv[1])"
   ]
  },
  {
   "cell_type": "code",
   "execution_count": null,
   "metadata": {},
   "outputs": [],
   "source": [
    "sorted_nounList"
   ]
  },
  {
   "cell_type": "markdown",
   "metadata": {},
   "source": [
    "## Observations"
   ]
  },
  {
   "cell_type": "markdown",
   "metadata": {},
   "source": [
    "#### 1. Minor changes in the drivers can lead to major changes in the driver decomposition outupt."
   ]
  },
  {
   "cell_type": "code",
   "execution_count": null,
   "metadata": {},
   "outputs": [],
   "source": [
    "doc = nlp(\"businesses struggling to keep up with clients demands\")"
   ]
  },
  {
   "cell_type": "code",
   "execution_count": null,
   "metadata": {
    "scrolled": true
   },
   "outputs": [],
   "source": [
    "displacy.render(doc, style='dep')"
   ]
  },
  {
   "cell_type": "code",
   "execution_count": null,
   "metadata": {},
   "outputs": [],
   "source": [
    "doc = nlp(\"businesses struggling to keep up with client's demands\")"
   ]
  },
  {
   "cell_type": "code",
   "execution_count": null,
   "metadata": {},
   "outputs": [],
   "source": [
    "displacy.render(doc, style='dep')"
   ]
  },
  {
   "cell_type": "markdown",
   "metadata": {},
   "source": [
    " #### 2. Stopword removal is helpful in some cases but not in others."
   ]
  },
  {
   "cell_type": "code",
   "execution_count": null,
   "metadata": {},
   "outputs": [],
   "source": [
    "doc = nlp(\"government open to foreign Information Technology support, regulations in place\")"
   ]
  },
  {
   "cell_type": "code",
   "execution_count": null,
   "metadata": {},
   "outputs": [],
   "source": [
    "displacy.render(doc, style='dep')"
   ]
  }
 ],
 "metadata": {
  "kernelspec": {
   "display_name": "Python 3",
   "language": "python",
   "name": "python3"
  },
  "language_info": {
   "codemirror_mode": {
    "name": "ipython",
    "version": 3
   },
   "file_extension": ".py",
   "mimetype": "text/x-python",
   "name": "python",
   "nbconvert_exporter": "python",
   "pygments_lexer": "ipython3",
   "version": "3.7.3"
  }
 },
 "nbformat": 4,
 "nbformat_minor": 2
}
